{
 "cells": [
  {
   "cell_type": "markdown",
   "id": "42482750",
   "metadata": {},
   "source": [
    "## QUESTION 1"
   ]
  },
  {
   "cell_type": "code",
   "execution_count": 46,
   "id": "fa97685f",
   "metadata": {},
   "outputs": [
    {
     "name": "stdout",
     "output_type": "stream",
     "text": [
      "[2002, 2009, 2016, 2023, 2037, 2044, 2051, 2058, 2072, 2079, 2086, 2093, 2107, 2114, 2121, 2128, 2142, 2149, 2156, 2163, 2177, 2184, 2191, 2198, 2212, 2219, 2226, 2233, 2247, 2254, 2261, 2268, 2282, 2289, 2296, 2303, 2317, 2324, 2331, 2338, 2352, 2359, 2366, 2373, 2387, 2394, 2401, 2408, 2422, 2429, 2436, 2443, 2457, 2464, 2471, 2478, 2492, 2499, 2506, 2513, 2527, 2534, 2541, 2548, 2562, 2569, 2576, 2583, 2597, 2604, 2611, 2618, 2632, 2639, 2646, 2653, 2667, 2674, 2681, 2688, 2702, 2709, 2716, 2723, 2737, 2744, 2751, 2758, 2772, 2779, 2786, 2793, 2807, 2814, 2821, 2828, 2842, 2849, 2856, 2863, 2877, 2884, 2891, 2898, 2912, 2919, 2926, 2933, 2947, 2954, 2961, 2968, 2982, 2989, 2996]"
     ]
    }
   ],
   "source": [
    "\n",
    "\n",
    "i=[]\n",
    "for n in range (2000,3000):\n",
    "    if n%7 ==0 and n%5!=0:\n",
    "        i.append(n)\n",
    "print(i,end=\"\")\n",
    "        \n"
   ]
  },
  {
   "cell_type": "markdown",
   "id": "82229d3e",
   "metadata": {},
   "source": [
    "## question 2"
   ]
  },
  {
   "cell_type": "code",
   "execution_count": 1,
   "id": "bd3fec9d",
   "metadata": {},
   "outputs": [
    {
     "name": "stdout",
     "output_type": "stream",
     "text": [
      "saisir un nombre : 5\n",
      "120\n"
     ]
    }
   ],
   "source": [
    "\n",
    "nbr = int(input(\"saisir un nombre : \"))\n",
    "fact=1\n",
    "for i in range(1,nbr+1):\n",
    "        fact=fact*i\n",
    "print(fact)\n",
    "    \n",
    "    \n",
    "    "
   ]
  },
  {
   "cell_type": "markdown",
   "id": "48dc28de",
   "metadata": {},
   "source": [
    "## QUESTION 3"
   ]
  },
  {
   "cell_type": "code",
   "execution_count": 43,
   "id": "aaa698dc",
   "metadata": {},
   "outputs": [
    {
     "name": "stdout",
     "output_type": "stream",
     "text": [
      "saisir un nombre8\n",
      "1 : 1 ,2 : 4 ,3 : 9 ,4 : 16 ,5 : 25 ,6 : 36 ,7 : 49 ,8 : 64 ,"
     ]
    }
   ],
   "source": [
    "nb = int(input(\"saisir un nombre\"))\n",
    "for i in range(1,nb+1):\n",
    "    print(i,\":\",i*i,\",\",end=\"\")\n",
    "    "
   ]
  },
  {
   "cell_type": "markdown",
   "id": "ee7b846c",
   "metadata": {},
   "source": [
    "## QUESTION 4"
   ]
  },
  {
   "cell_type": "code",
   "execution_count": 35,
   "id": "b61329f0",
   "metadata": {},
   "outputs": [
    {
     "name": "stdout",
     "output_type": "stream",
     "text": [
      "ktten\n"
     ]
    }
   ],
   "source": [
    "ch = \"kitten\"\n",
    "n=1\n",
    "for i in range(len(ch)):\n",
    "    if i == n:\n",
    "        ch = ch.replace(\"i\",\"\")\n",
    "print(ch)\n",
    "## j'ai essayé durant deux jours!!"
   ]
  },
  {
   "cell_type": "markdown",
   "id": "54ae350d",
   "metadata": {},
   "source": [
    "## QUESTION 5"
   ]
  },
  {
   "cell_type": "code",
   "execution_count": 83,
   "id": "c956251b",
   "metadata": {},
   "outputs": [
    {
     "name": "stdout",
     "output_type": "stream",
     "text": [
      "[[1, 2], [3, 4], [5, 6]]\n"
     ]
    }
   ],
   "source": [
    "import numpy as np\n",
    "tab= np.array([[1,2],[3,4], [5,6]])\n",
    "print(tab.tolist())"
   ]
  },
  {
   "cell_type": "markdown",
   "id": "45e4db9b",
   "metadata": {},
   "source": [
    "## QUESTION 6\n",
    "# calculer la matrice de covariance de deux tableaux donnés. "
   ]
  },
  {
   "cell_type": "code",
   "execution_count": 89,
   "id": "1b33a294",
   "metadata": {},
   "outputs": [
    {
     "name": "stdout",
     "output_type": "stream",
     "text": [
      "[[ 1. -1.]\n",
      " [-1.  1.]]\n"
     ]
    }
   ],
   "source": [
    "tab1 = np.array([[0,1,2]])\n",
    "tab2= np.array([[2,1,0]])\n",
    "print(np.cov(tab1,tab2),)"
   ]
  },
  {
   "cell_type": "markdown",
   "id": "91705e4e",
   "metadata": {},
   "source": [
    "## QUESTION 7\n",
    "# un programme qui calcule et imprime la valeur selon la formule donnée : Q= Racine carrée de [(2 * C * D)/H]"
   ]
  },
  {
   "cell_type": "code",
   "execution_count": 54,
   "id": "02224124",
   "metadata": {},
   "outputs": [
    {
     "name": "stdout",
     "output_type": "stream",
     "text": [
      "le nombre de valeurs : 3\n",
      "saisir le  nombre : 100\n",
      "saisir le  nombre : 150\n",
      "saisir le  nombre : 180\n",
      "[18, 22, 24]\n"
     ]
    }
   ],
   "source": [
    "from math import *\n",
    "q = []\n",
    "c =50\n",
    "h =30\n",
    "n=int(input(\"le nombre de valeurs : \"))\n",
    "for i in range(n):\n",
    "    d = int(input(\"saisir le  nombre : \"))\n",
    "    x = int(sqrt(((2 * c * d)/h)))\n",
    "    q.append(x)\n",
    "print(q)\n",
    "\n"
   ]
  }
 ],
 "metadata": {
  "kernelspec": {
   "display_name": "Python 3 (ipykernel)",
   "language": "python",
   "name": "python3"
  },
  "language_info": {
   "codemirror_mode": {
    "name": "ipython",
    "version": 3
   },
   "file_extension": ".py",
   "mimetype": "text/x-python",
   "name": "python",
   "nbconvert_exporter": "python",
   "pygments_lexer": "ipython3",
   "version": "3.10.6"
  }
 },
 "nbformat": 4,
 "nbformat_minor": 5
}
